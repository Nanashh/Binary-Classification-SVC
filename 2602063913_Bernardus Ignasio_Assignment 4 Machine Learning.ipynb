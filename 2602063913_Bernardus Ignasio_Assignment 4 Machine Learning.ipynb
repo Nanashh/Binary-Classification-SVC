{
 "cells": [
  {
   "cell_type": "markdown",
   "id": "bcde5d9a",
   "metadata": {},
   "source": [
    "# Assignment 4 Machine Learning"
   ]
  },
  {
   "cell_type": "markdown",
   "id": "f2ce7842",
   "metadata": {},
   "source": [
    "NIM              : 2602063913\n",
    "\n",
    "NAME             : Bernardus Ignasio\n",
    "\n",
    "CLASS            : LA01\n",
    "\n",
    "Assignment Number: 4"
   ]
  },
  {
   "cell_type": "markdown",
   "id": "b5508516",
   "metadata": {},
   "source": [
    "### Importing library and datasets"
   ]
  },
  {
   "cell_type": "code",
   "execution_count": 72,
   "id": "a287a28a",
   "metadata": {},
   "outputs": [],
   "source": [
    "import pandas as pd\n",
    "import numpy as np\n",
    "from sklearn.svm import SVC\n",
    "from sklearn.model_selection import train_test_split\n",
    "from sklearn.metrics import classification_report, confusion_matrix, accuracy_score,precision_score,recall_score,f1_score\n",
    "import seaborn as sns\n",
    "from sklearn.preprocessing import StandardScaler"
   ]
  },
  {
   "cell_type": "code",
   "execution_count": 73,
   "id": "92a4fb62",
   "metadata": {},
   "outputs": [
    {
     "data": {
      "text/html": [
       "<div>\n",
       "<style scoped>\n",
       "    .dataframe tbody tr th:only-of-type {\n",
       "        vertical-align: middle;\n",
       "    }\n",
       "\n",
       "    .dataframe tbody tr th {\n",
       "        vertical-align: top;\n",
       "    }\n",
       "\n",
       "    .dataframe thead th {\n",
       "        text-align: right;\n",
       "    }\n",
       "</style>\n",
       "<table border=\"1\" class=\"dataframe\">\n",
       "  <thead>\n",
       "    <tr style=\"text-align: right;\">\n",
       "      <th></th>\n",
       "      <th>ID</th>\n",
       "      <th>Clump</th>\n",
       "      <th>UnifSize</th>\n",
       "      <th>UnifShape</th>\n",
       "      <th>MargAdh</th>\n",
       "      <th>SingEpiSize</th>\n",
       "      <th>BareNuc</th>\n",
       "      <th>BlandChrom</th>\n",
       "      <th>NormNucl</th>\n",
       "      <th>Mit</th>\n",
       "      <th>Class</th>\n",
       "    </tr>\n",
       "  </thead>\n",
       "  <tbody>\n",
       "    <tr>\n",
       "      <th>0</th>\n",
       "      <td>1000025</td>\n",
       "      <td>5</td>\n",
       "      <td>1</td>\n",
       "      <td>1</td>\n",
       "      <td>1</td>\n",
       "      <td>2</td>\n",
       "      <td>1</td>\n",
       "      <td>3</td>\n",
       "      <td>1</td>\n",
       "      <td>1</td>\n",
       "      <td>2</td>\n",
       "    </tr>\n",
       "    <tr>\n",
       "      <th>1</th>\n",
       "      <td>1002945</td>\n",
       "      <td>5</td>\n",
       "      <td>4</td>\n",
       "      <td>4</td>\n",
       "      <td>5</td>\n",
       "      <td>7</td>\n",
       "      <td>10</td>\n",
       "      <td>3</td>\n",
       "      <td>2</td>\n",
       "      <td>1</td>\n",
       "      <td>2</td>\n",
       "    </tr>\n",
       "    <tr>\n",
       "      <th>2</th>\n",
       "      <td>1015425</td>\n",
       "      <td>3</td>\n",
       "      <td>1</td>\n",
       "      <td>1</td>\n",
       "      <td>1</td>\n",
       "      <td>2</td>\n",
       "      <td>2</td>\n",
       "      <td>3</td>\n",
       "      <td>1</td>\n",
       "      <td>1</td>\n",
       "      <td>2</td>\n",
       "    </tr>\n",
       "    <tr>\n",
       "      <th>3</th>\n",
       "      <td>1016277</td>\n",
       "      <td>6</td>\n",
       "      <td>8</td>\n",
       "      <td>8</td>\n",
       "      <td>1</td>\n",
       "      <td>3</td>\n",
       "      <td>4</td>\n",
       "      <td>3</td>\n",
       "      <td>7</td>\n",
       "      <td>1</td>\n",
       "      <td>2</td>\n",
       "    </tr>\n",
       "    <tr>\n",
       "      <th>4</th>\n",
       "      <td>1017023</td>\n",
       "      <td>4</td>\n",
       "      <td>1</td>\n",
       "      <td>1</td>\n",
       "      <td>3</td>\n",
       "      <td>2</td>\n",
       "      <td>1</td>\n",
       "      <td>3</td>\n",
       "      <td>1</td>\n",
       "      <td>1</td>\n",
       "      <td>2</td>\n",
       "    </tr>\n",
       "  </tbody>\n",
       "</table>\n",
       "</div>"
      ],
      "text/plain": [
       "        ID  Clump  UnifSize  UnifShape  MargAdh  SingEpiSize BareNuc  \\\n",
       "0  1000025      5         1          1        1            2       1   \n",
       "1  1002945      5         4          4        5            7      10   \n",
       "2  1015425      3         1          1        1            2       2   \n",
       "3  1016277      6         8          8        1            3       4   \n",
       "4  1017023      4         1          1        3            2       1   \n",
       "\n",
       "   BlandChrom  NormNucl  Mit  Class  \n",
       "0           3         1    1      2  \n",
       "1           3         2    1      2  \n",
       "2           3         1    1      2  \n",
       "3           3         7    1      2  \n",
       "4           3         1    1      2  "
      ]
     },
     "execution_count": 73,
     "metadata": {},
     "output_type": "execute_result"
    }
   ],
   "source": [
    "df=pd.read_csv('cell_samples.csv')\n",
    "df.head()"
   ]
  },
  {
   "cell_type": "markdown",
   "id": "5dc57328",
   "metadata": {},
   "source": [
    "### EDA & Preprocessing"
   ]
  },
  {
   "cell_type": "code",
   "execution_count": 74,
   "id": "fbb523cc",
   "metadata": {},
   "outputs": [],
   "source": [
    "df=df.drop(['ID'], axis=1)"
   ]
  },
  {
   "cell_type": "code",
   "execution_count": 75,
   "id": "305ed314",
   "metadata": {},
   "outputs": [
    {
     "data": {
      "image/png": "[encoded data removed]",
      "text/plain": [
       "<Figure size 2000x500 with 1 Axes>"
      ]
     },
     "metadata": {},
     "output_type": "display_data"
    }
   ],
   "source": [
    "import matplotlib.pyplot as plt\n",
    "fig, ax = plt.subplots(figsize=(20, 5))\n",
    "sns.boxplot(data=df,linewidth=2,ax=ax)\n",
    "plt.show()"
   ]
  },
  {
   "cell_type": "markdown",
   "id": "866da66d",
   "metadata": {},
   "source": [
    "#### Terlihat pada boxplot bahwa banyak outliers yang harus di handle"
   ]
  },
  {
   "cell_type": "code",
   "execution_count": 76,
   "id": "ec489814",
   "metadata": {},
   "outputs": [
    {
     "data": {
      "text/plain": [
       "Clump           int64\n",
       "UnifSize        int64\n",
       "UnifShape       int64\n",
       "MargAdh         int64\n",
       "SingEpiSize     int64\n",
       "BareNuc        object\n",
       "BlandChrom      int64\n",
       "NormNucl        int64\n",
       "Mit             int64\n",
       "Class           int64\n",
       "dtype: object"
      ]
     },
     "execution_count": 76,
     "metadata": {},
     "output_type": "execute_result"
    }
   ],
   "source": [
    "df.dtypes"
   ]
  },
  {
   "cell_type": "code",
   "execution_count": 77,
   "id": "20f54194",
   "metadata": {},
   "outputs": [
    {
     "data": {
      "text/plain": [
       "array(['1', '10', '2', '4', '3', '9', '7', '?', '5', '8', '6'],\n",
       "      dtype=object)"
      ]
     },
     "execution_count": 77,
     "metadata": {},
     "output_type": "execute_result"
    }
   ],
   "source": [
    "df['BareNuc'].unique()"
   ]
  },
  {
   "cell_type": "markdown",
   "id": "3fac0488",
   "metadata": {},
   "source": [
    "#### Ada value yang seharusnya tidak ada di kolom'BareNuc' berupa '?' menyebabkan error dan tidak bisa fit data, maka di handling"
   ]
  },
  {
   "cell_type": "code",
   "execution_count": 78,
   "id": "a4a0ca63",
   "metadata": {},
   "outputs": [],
   "source": [
    "df[df['BareNuc'] == '?'] = df['BareNuc'].mode()[0]"
   ]
  },
  {
   "cell_type": "code",
   "execution_count": 79,
   "id": "7b345b17",
   "metadata": {},
   "outputs": [
    {
     "data": {
      "text/plain": [
       "Clump          int64\n",
       "UnifSize       int64\n",
       "UnifShape      int64\n",
       "MargAdh        int64\n",
       "SingEpiSize    int64\n",
       "BareNuc        int64\n",
       "BlandChrom     int64\n",
       "NormNucl       int64\n",
       "Mit            int64\n",
       "Class          int64\n",
       "dtype: object"
      ]
     },
     "execution_count": 79,
     "metadata": {},
     "output_type": "execute_result"
    }
   ],
   "source": [
    "df=df.astype('int64')\n",
    "df.dtypes"
   ]
  },
  {
   "cell_type": "code",
   "execution_count": 80,
   "id": "443ce244",
   "metadata": {},
   "outputs": [
    {
     "data": {
      "text/plain": [
       "array([2, 4, 1], dtype=int64)"
      ]
     },
     "execution_count": 80,
     "metadata": {},
     "output_type": "execute_result"
    }
   ],
   "source": [
    "df['Class'].unique()"
   ]
  },
  {
   "cell_type": "markdown",
   "id": "adc5043e",
   "metadata": {},
   "source": [
    "#### terdapat 3 value di kolom 'class' diminta hanya classify hanya 2 (benign) dan 4 (malignant), maka harus di handling"
   ]
  },
  {
   "cell_type": "code",
   "execution_count": 81,
   "id": "f5413aec",
   "metadata": {},
   "outputs": [],
   "source": [
    "a = []\n",
    "for idx,i in enumerate(df['Class']):\n",
    "    if i == 1:\n",
    "        a.append(idx)\n"
   ]
  },
  {
   "cell_type": "code",
   "execution_count": 82,
   "id": "ab682ad5",
   "metadata": {},
   "outputs": [
    {
     "data": {
      "text/plain": [
       "[23, 40, 139, 145, 158, 164, 235, 249, 275, 292, 294, 297, 315, 321, 411, 617]"
      ]
     },
     "execution_count": 82,
     "metadata": {},
     "output_type": "execute_result"
    }
   ],
   "source": [
    "a"
   ]
  },
  {
   "cell_type": "code",
   "execution_count": 83,
   "id": "80b67fcf",
   "metadata": {},
   "outputs": [],
   "source": [
    "df = df.drop(a)"
   ]
  },
  {
   "cell_type": "code",
   "execution_count": 84,
   "id": "4de01d96",
   "metadata": {},
   "outputs": [
    {
     "data": {
      "text/plain": [
       "array([2, 4], dtype=int64)"
      ]
     },
     "execution_count": 84,
     "metadata": {},
     "output_type": "execute_result"
    }
   ],
   "source": [
    "df['Class'].unique()"
   ]
  },
  {
   "cell_type": "code",
   "execution_count": 85,
   "id": "07a1e56e",
   "metadata": {},
   "outputs": [],
   "source": [
    "#kalau class 1 nya mau di mode\n",
    "#df['Class'].groupby(df['Class']).count()\n",
    "#df[df['Class'] == 1] = df['Class'].mode()[0]"
   ]
  },
  {
   "cell_type": "code",
   "execution_count": 86,
   "id": "65563832",
   "metadata": {},
   "outputs": [],
   "source": [
    "#df['Class'].unique()"
   ]
  },
  {
   "cell_type": "code",
   "execution_count": 87,
   "id": "3f4c7b37",
   "metadata": {},
   "outputs": [],
   "source": [
    "def data_preprocessing_pipeline(data):\n",
    "    numeric_features=data.select_dtypes(include=['float','int']).columns\n",
    "    categorical_features=data.select_dtypes(include=['object']).columns\n",
    "    \n",
    "    data[numeric_features]=data[numeric_features].fillna(data[numeric_features].mean())\n",
    "    \n",
    "    for feature in numeric_features:\n",
    "        Q1 = data[feature].quantile(0.25)\n",
    "        Q3 = data[feature].quantile(0.75)\n",
    "        IQR = Q3-Q1\n",
    "        lower_bound= Q1 - (1.5*IQR)\n",
    "        upper_bound= Q3 + (1.5*IQR)\n",
    "        data[feature]= np.where((data[feature]<lower_bound) | (data[feature]> upper_bound), \n",
    "                                 data[feature].mean(), data[feature])\n",
    "                                \n",
    "    scaler = StandardScaler()\n",
    "    scaled_data = scaler.fit_transform(data[numeric_features])\n",
    "    data[numeric_features]=scaler.transform(data[numeric_features])\n",
    "    #data[categorical_features]=data[categorical_features].fillna(data[categorical_features].mode().iloc[0])\n",
    "    return data                            "
   ]
  },
  {
   "cell_type": "code",
   "execution_count": 88,
   "id": "3f28d6df",
   "metadata": {},
   "outputs": [
    {
     "data": {
      "text/html": [
       "<div>\n",
       "<style scoped>\n",
       "    .dataframe tbody tr th:only-of-type {\n",
       "        vertical-align: middle;\n",
       "    }\n",
       "\n",
       "    .dataframe tbody tr th {\n",
       "        vertical-align: top;\n",
       "    }\n",
       "\n",
       "    .dataframe thead th {\n",
       "        text-align: right;\n",
       "    }\n",
       "</style>\n",
       "<table border=\"1\" class=\"dataframe\">\n",
       "  <thead>\n",
       "    <tr style=\"text-align: right;\">\n",
       "      <th></th>\n",
       "      <th>Clump</th>\n",
       "      <th>UnifSize</th>\n",
       "      <th>UnifShape</th>\n",
       "      <th>MargAdh</th>\n",
       "      <th>SingEpiSize</th>\n",
       "      <th>BareNuc</th>\n",
       "      <th>BlandChrom</th>\n",
       "      <th>NormNucl</th>\n",
       "      <th>Mit</th>\n",
       "      <th>Class</th>\n",
       "    </tr>\n",
       "  </thead>\n",
       "  <tbody>\n",
       "    <tr>\n",
       "      <th>0</th>\n",
       "      <td>0.197905</td>\n",
       "      <td>-0.702212</td>\n",
       "      <td>-0.741774</td>\n",
       "      <td>-0.654577</td>\n",
       "      <td>-0.563025</td>\n",
       "      <td>-0.698853</td>\n",
       "      <td>-0.116804</td>\n",
       "      <td>-0.598251</td>\n",
       "      <td>-0.461675</td>\n",
       "      <td>-0.733681</td>\n",
       "    </tr>\n",
       "    <tr>\n",
       "      <th>1</th>\n",
       "      <td>0.197905</td>\n",
       "      <td>0.277252</td>\n",
       "      <td>0.262783</td>\n",
       "      <td>1.497467</td>\n",
       "      <td>3.122838</td>\n",
       "      <td>1.772867</td>\n",
       "      <td>-0.116804</td>\n",
       "      <td>-0.058643</td>\n",
       "      <td>-0.461675</td>\n",
       "      <td>-0.733681</td>\n",
       "    </tr>\n",
       "    <tr>\n",
       "      <th>2</th>\n",
       "      <td>-0.511643</td>\n",
       "      <td>-0.702212</td>\n",
       "      <td>-0.741774</td>\n",
       "      <td>-0.654577</td>\n",
       "      <td>-0.563025</td>\n",
       "      <td>-0.424217</td>\n",
       "      <td>-0.116804</td>\n",
       "      <td>-0.598251</td>\n",
       "      <td>-0.461675</td>\n",
       "      <td>-0.733681</td>\n",
       "    </tr>\n",
       "    <tr>\n",
       "      <th>3</th>\n",
       "      <td>0.552679</td>\n",
       "      <td>1.583204</td>\n",
       "      <td>1.602192</td>\n",
       "      <td>-0.654577</td>\n",
       "      <td>0.174148</td>\n",
       "      <td>0.125054</td>\n",
       "      <td>-0.116804</td>\n",
       "      <td>2.639393</td>\n",
       "      <td>-0.461675</td>\n",
       "      <td>-0.733681</td>\n",
       "    </tr>\n",
       "    <tr>\n",
       "      <th>4</th>\n",
       "      <td>-0.156869</td>\n",
       "      <td>-0.702212</td>\n",
       "      <td>-0.741774</td>\n",
       "      <td>0.421445</td>\n",
       "      <td>-0.563025</td>\n",
       "      <td>-0.698853</td>\n",
       "      <td>-0.116804</td>\n",
       "      <td>-0.598251</td>\n",
       "      <td>-0.461675</td>\n",
       "      <td>-0.733681</td>\n",
       "    </tr>\n",
       "  </tbody>\n",
       "</table>\n",
       "</div>"
      ],
      "text/plain": [
       "      Clump  UnifSize  UnifShape   MargAdh  SingEpiSize   BareNuc  BlandChrom  \\\n",
       "0  0.197905 -0.702212  -0.741774 -0.654577    -0.563025 -0.698853   -0.116804   \n",
       "1  0.197905  0.277252   0.262783  1.497467     3.122838  1.772867   -0.116804   \n",
       "2 -0.511643 -0.702212  -0.741774 -0.654577    -0.563025 -0.424217   -0.116804   \n",
       "3  0.552679  1.583204   1.602192 -0.654577     0.174148  0.125054   -0.116804   \n",
       "4 -0.156869 -0.702212  -0.741774  0.421445    -0.563025 -0.698853   -0.116804   \n",
       "\n",
       "   NormNucl       Mit     Class  \n",
       "0 -0.598251 -0.461675 -0.733681  \n",
       "1 -0.058643 -0.461675 -0.733681  \n",
       "2 -0.598251 -0.461675 -0.733681  \n",
       "3  2.639393 -0.461675 -0.733681  \n",
       "4 -0.598251 -0.461675 -0.733681  "
      ]
     },
     "execution_count": 88,
     "metadata": {},
     "output_type": "execute_result"
    }
   ],
   "source": [
    "data_preprocessing_pipeline(df) \n",
    "df.head()"
   ]
  },
  {
   "cell_type": "markdown",
   "id": "f3b3557d",
   "metadata": {},
   "source": [
    "#### Data setelah distandarisasi agar memiliki scale yang sama"
   ]
  },
  {
   "cell_type": "code",
   "execution_count": 89,
   "id": "8fe11da3",
   "metadata": {},
   "outputs": [
    {
     "data": {
      "text/plain": [
       "Clump          float64\n",
       "UnifSize       float64\n",
       "UnifShape      float64\n",
       "MargAdh        float64\n",
       "SingEpiSize    float64\n",
       "BareNuc        float64\n",
       "BlandChrom     float64\n",
       "NormNucl       float64\n",
       "Mit            float64\n",
       "Class          float64\n",
       "dtype: object"
      ]
     },
     "execution_count": 89,
     "metadata": {},
     "output_type": "execute_result"
    }
   ],
   "source": [
    "df.dtypes"
   ]
  },
  {
   "cell_type": "code",
   "execution_count": 90,
   "id": "69bcbbf2",
   "metadata": {},
   "outputs": [
    {
     "data": {
      "image/png": "[encoded data removed]",
      "text/plain": [
       "<Figure size 2000x500 with 1 Axes>"
      ]
     },
     "metadata": {},
     "output_type": "display_data"
    }
   ],
   "source": [
    "fig, ax = plt.subplots(figsize=(20, 5))\n",
    "sns.boxplot(data=df,linewidth=2,ax=ax)\n",
    "plt.show()"
   ]
  },
  {
   "cell_type": "markdown",
   "id": "ccb5281b",
   "metadata": {},
   "source": [
    "#### Dapat terlihat bahwa outliers sudah berkurang"
   ]
  },
  {
   "cell_type": "code",
   "execution_count": 91,
   "id": "94ebc7cb",
   "metadata": {},
   "outputs": [
    {
     "data": {
      "text/plain": [
       "array([-0.73368133,  1.36298958])"
      ]
     },
     "execution_count": 91,
     "metadata": {},
     "output_type": "execute_result"
    }
   ],
   "source": [
    "df['Class'].unique()"
   ]
  },
  {
   "cell_type": "code",
   "execution_count": 92,
   "id": "c00a6bcd",
   "metadata": {},
   "outputs": [
    {
     "data": {
      "text/plain": [
       "array([-0.69885309,  1.77286724, -0.4242175 ,  0.12505369, -0.1495819 ,\n",
       "        1.49823165,  0.94896047,  0.39968928,  1.22359606,  0.67432487])"
      ]
     },
     "execution_count": 92,
     "metadata": {},
     "output_type": "execute_result"
    }
   ],
   "source": [
    "df['BareNuc'].unique()"
   ]
  },
  {
   "cell_type": "markdown",
   "id": "83f7cca4",
   "metadata": {},
   "source": [
    "### Fitting & Predict with SVC RBF Kernel"
   ]
  },
  {
   "cell_type": "code",
   "execution_count": 93,
   "id": "a4695739",
   "metadata": {},
   "outputs": [],
   "source": [
    "X=df.drop(['Class'],axis=1)\n",
    "y=df['Class'].astype('int64')"
   ]
  },
  {
   "cell_type": "code",
   "execution_count": 94,
   "id": "a448d11d",
   "metadata": {},
   "outputs": [],
   "source": [
    "X_train,X_test,y_train,y_test=train_test_split(X,y,test_size=0.2,random_state=42)"
   ]
  },
  {
   "cell_type": "code",
   "execution_count": 95,
   "id": "046e5f1f",
   "metadata": {},
   "outputs": [
    {
     "data": {
      "text/plain": [
       "304    1\n",
       "149    1\n",
       "217    0\n",
       "120    0\n",
       "314    0\n",
       "      ..\n",
       "112    1\n",
       "84     1\n",
       "53     1\n",
       "216    0\n",
       "563    0\n",
       "Name: Class, Length: 137, dtype: int64"
      ]
     },
     "execution_count": 95,
     "metadata": {},
     "output_type": "execute_result"
    }
   ],
   "source": [
    "y_test"
   ]
  },
  {
   "cell_type": "code",
   "execution_count": 96,
   "id": "64852d05",
   "metadata": {},
   "outputs": [
    {
     "data": {
      "text/html": [
       "<style>#sk-container-id-3 {color: black;}#sk-container-id-3 pre{padding: 0;}#sk-container-id-3 div.sk-toggleable {background-color: white;}#sk-container-id-3 label.sk-toggleable__label {cursor: pointer;display: block;width: 100%;margin-bottom: 0;padding: 0.3em;box-sizing: border-box;text-align: center;}#sk-container-id-3 label.sk-toggleable__label-arrow:before {content: \"▸\";float: left;margin-right: 0.25em;color: #696969;}#sk-container-id-3 label.sk-toggleable__label-arrow:hover:before {color: black;}#sk-container-id-3 div.sk-estimator:hover label.sk-toggleable__label-arrow:before {color: black;}#sk-container-id-3 div.sk-toggleable__content {max-height: 0;max-width: 0;overflow: hidden;text-align: left;background-color: #f0f8ff;}#sk-container-id-3 div.sk-toggleable__content pre {margin: 0.2em;color: black;border-radius: 0.25em;background-color: #f0f8ff;}#sk-container-id-3 input.sk-toggleable__control:checked~div.sk-toggleable__content {max-height: 200px;max-width: 100%;overflow: auto;}#sk-container-id-3 input.sk-toggleable__control:checked~label.sk-toggleable__label-arrow:before {content: \"▾\";}#sk-container-id-3 div.sk-estimator input.sk-toggleable__control:checked~label.sk-toggleable__label {background-color: #d4ebff;}#sk-container-id-3 div.sk-label input.sk-toggleable__control:checked~label.sk-toggleable__label {background-color: #d4ebff;}#sk-container-id-3 input.sk-hidden--visually {border: 0;clip: rect(1px 1px 1px 1px);clip: rect(1px, 1px, 1px, 1px);height: 1px;margin: -1px;overflow: hidden;padding: 0;position: absolute;width: 1px;}#sk-container-id-3 div.sk-estimator {font-family: monospace;background-color: #f0f8ff;border: 1px dotted black;border-radius: 0.25em;box-sizing: border-box;margin-bottom: 0.5em;}#sk-container-id-3 div.sk-estimator:hover {background-color: #d4ebff;}#sk-container-id-3 div.sk-parallel-item::after {content: \"\";width: 100%;border-bottom: 1px solid gray;flex-grow: 1;}#sk-container-id-3 div.sk-label:hover label.sk-toggleable__label {background-color: #d4ebff;}#sk-container-id-3 div.sk-serial::before {content: \"\";position: absolute;border-left: 1px solid gray;box-sizing: border-box;top: 0;bottom: 0;left: 50%;z-index: 0;}#sk-container-id-3 div.sk-serial {display: flex;flex-direction: column;align-items: center;background-color: white;padding-right: 0.2em;padding-left: 0.2em;position: relative;}#sk-container-id-3 div.sk-item {position: relative;z-index: 1;}#sk-container-id-3 div.sk-parallel {display: flex;align-items: stretch;justify-content: center;background-color: white;position: relative;}#sk-container-id-3 div.sk-item::before, #sk-container-id-3 div.sk-parallel-item::before {content: \"\";position: absolute;border-left: 1px solid gray;box-sizing: border-box;top: 0;bottom: 0;left: 50%;z-index: -1;}#sk-container-id-3 div.sk-parallel-item {display: flex;flex-direction: column;z-index: 1;position: relative;background-color: white;}#sk-container-id-3 div.sk-parallel-item:first-child::after {align-self: flex-end;width: 50%;}#sk-container-id-3 div.sk-parallel-item:last-child::after {align-self: flex-start;width: 50%;}#sk-container-id-3 div.sk-parallel-item:only-child::after {width: 0;}#sk-container-id-3 div.sk-dashed-wrapped {border: 1px dashed gray;margin: 0 0.4em 0.5em 0.4em;box-sizing: border-box;padding-bottom: 0.4em;background-color: white;}#sk-container-id-3 div.sk-label label {font-family: monospace;font-weight: bold;display: inline-block;line-height: 1.2em;}#sk-container-id-3 div.sk-label-container {text-align: center;}#sk-container-id-3 div.sk-container {/* jupyter's `normalize.less` sets `[hidden] { display: none; }` but bootstrap.min.css set `[hidden] { display: none !important; }` so we also need the `!important` here to be able to override the default hidden behavior on the sphinx rendered scikit-learn.org. See: https://github.com/scikit-learn/scikit-learn/issues/21755 */display: inline-block !important;position: relative;}#sk-container-id-3 div.sk-text-repr-fallback {display: none;}</style><div id=\"sk-container-id-3\" class=\"sk-top-container\"><div class=\"sk-text-repr-fallback\"><pre>SVC()</pre><b>In a Jupyter environment, please rerun this cell to show the HTML representation or trust the notebook. <br />On GitHub, the HTML representation is unable to render, please try loading this page with nbviewer.org.</b></div><div class=\"sk-container\" hidden><div class=\"sk-item\"><div class=\"sk-estimator sk-toggleable\"><input class=\"sk-toggleable__control sk-hidden--visually\" id=\"sk-estimator-id-3\" type=\"checkbox\" checked><label for=\"sk-estimator-id-3\" class=\"sk-toggleable__label sk-toggleable__label-arrow\">SVC</label><div class=\"sk-toggleable__content\"><pre>SVC()</pre></div></div></div></div></div>"
      ],
      "text/plain": [
       "SVC()"
      ]
     },
     "execution_count": 96,
     "metadata": {},
     "output_type": "execute_result"
    }
   ],
   "source": [
    "svc=SVC(kernel='rbf')\n",
    "svc.fit(X_train,y_train)"
   ]
  },
  {
   "cell_type": "code",
   "execution_count": 97,
   "id": "f5d58d03",
   "metadata": {},
   "outputs": [],
   "source": [
    "y_pred=svc.predict(X_test)"
   ]
  },
  {
   "cell_type": "markdown",
   "id": "ac268720",
   "metadata": {},
   "source": [
    "### Evaluation"
   ]
  },
  {
   "cell_type": "code",
   "execution_count": 98,
   "id": "3656893f",
   "metadata": {},
   "outputs": [
    {
     "name": "stdout",
     "output_type": "stream",
     "text": [
      "Accuracy Score : 0.9781021897810219\n",
      "Precision Score : 0.9824561403508771\n",
      "Recall Score : 0.9655172413793104\n",
      "F1 Score : 0.9739130434782608\n"
     ]
    }
   ],
   "source": [
    "print(f'Accuracy Score : {accuracy_score(y_test,y_pred)}')\n",
    "print(f'Precision Score : {precision_score(y_test,y_pred)}')\n",
    "print(f'Recall Score : {recall_score(y_test,y_pred)}')\n",
    "print(f'F1 Score : {f1_score(y_test,y_pred)}')"
   ]
  },
  {
   "cell_type": "code",
   "execution_count": 99,
   "id": "90479e1a",
   "metadata": {
    "scrolled": true
   },
   "outputs": [
    {
     "name": "stdout",
     "output_type": "stream",
     "text": [
      "              precision    recall  f1-score   support\n",
      "\n",
      "           0       0.97      0.99      0.98        79\n",
      "           1       0.98      0.97      0.97        58\n",
      "\n",
      "    accuracy                           0.98       137\n",
      "   macro avg       0.98      0.98      0.98       137\n",
      "weighted avg       0.98      0.98      0.98       137\n",
      "\n"
     ]
    }
   ],
   "source": [
    "print(classification_report(y_test,y_pred))"
   ]
  },
  {
   "cell_type": "code",
   "execution_count": 102,
   "id": "58042c9e",
   "metadata": {
    "scrolled": true
   },
   "outputs": [
    {
     "data": {
      "image/png": "[encoded data removed]",
      "text/plain": [
       "<Figure size 200x200 with 2 Axes>"
      ]
     },
     "metadata": {},
     "output_type": "display_data"
    }
   ],
   "source": [
    "fig, ax = plt.subplots(figsize=(2, 2))\n",
    "axislabel=['Benign(2)','Malignant(4)']\n",
    "\n",
    "sns.heatmap(confusion_matrix(y_test,y_pred),xticklabels=axislabel, yticklabels=axislabel, annot=True,cmap='Blues')\n",
    "\n",
    "\n",
    "\n",
    "\n",
    "plt.show()"
   ]
  }
 ],
 "metadata": {
  "kernelspec": {
   "display_name": "Python 3 (ipykernel)",
   "language": "python",
   "name": "python3"
  },
  "language_info": {
   "codemirror_mode": {
    "name": "ipython",
    "version": 3
   },
   "file_extension": ".py",
   "mimetype": "text/x-python",
   "name": "python",
   "nbconvert_exporter": "python",
   "pygments_lexer": "ipython3",
   "version": "3.11.5"
  }
 },
 "nbformat": 4,
 "nbformat_minor": 5
}
